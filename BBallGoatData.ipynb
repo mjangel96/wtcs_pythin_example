{
  "nbformat": 4,
  "nbformat_minor": 0,
  "metadata": {
    "colab": {
      "name": "BBallGoatData.ipynb",
      "provenance": [],
      "collapsed_sections": [],
      "authorship_tag": "ABX9TyM6S5ofzUwQUjRmgDMNJasI",
      "include_colab_link": true
    },
    "kernelspec": {
      "name": "python3",
      "display_name": "Python 3"
    },
    "language_info": {
      "name": "python"
    }
  },
  "cells": [
    {
      "cell_type": "markdown",
      "metadata": {
        "id": "view-in-github",
        "colab_type": "text"
      },
      "source": [
        "<a href=\"https://colab.research.google.com/github/mjangel96/wtcs_pythin_example/blob/main/BBallGoatData.ipynb\" target=\"_parent\"><img src=\"https://colab.research.google.com/assets/colab-badge.svg\" alt=\"Open In Colab\"/></a>"
      ]
    },
    {
      "cell_type": "code",
      "metadata": {
        "colab": {
          "base_uri": "https://localhost:8080/"
        },
        "id": "vhOOPL3_-TdG",
        "outputId": "d3b05c73-45ee-4753-d439-680666aead45"
      },
      "source": [
        "#import requests\n",
        "#url = \"https://any-api.com/nba_com/nba_com/docs/_playersvsplayers/GET\"\n",
        "\n",
        "#players = requests.get(url + \" https://stats.nba.com/stats/playersvsplayers\")\n",
        "#players"
      ],
      "execution_count": 9,
      "outputs": [
        {
          "output_type": "execute_result",
          "data": {
            "text/plain": [
              "<Response [200]>"
            ]
          },
          "metadata": {
            "tags": []
          },
          "execution_count": 9
        }
      ]
    },
    {
      "cell_type": "code",
      "metadata": {
        "id": "Kq2pEog8--4_"
      },
      "source": [
        "#players_data = players.json()\n",
        "#players_list = players_data['player_team']['queryResults']['row']\n",
        "#players_data['player_team']['queryResults']['row'][0].keys()"
      ],
      "execution_count": 14,
      "outputs": []
    },
    {
      "cell_type": "code",
      "metadata": {
        "id": "qd3LlTUyA2H8"
      },
      "source": [
        "import requests\n",
        "import pandas as pd\n",
        "import matplotlib.pyplot as plt\n",
        "import numpy as np\n",
        "from scipy.stats import linregress  #used for machine learning"
      ],
      "execution_count": 12,
      "outputs": []
    },
    {
      "cell_type": "code",
      "metadata": {
        "colab": {
          "base_uri": "https://localhost:8080/",
          "height": 297
        },
        "id": "w1I-Gi8u_qfm",
        "outputId": "4f425780-b353-49d3-ceeb-486de4d8bb48"
      },
      "source": [
        "cas_data = pd.read_csv('advanced_stats.csv', header=0, encoding = \"ISO-8859-1\", engine='python')\n",
        "cas_data\n",
        "\n",
        "output = linregress(cas_data['G'], cas_data['PER'])\n",
        "output\n",
        "\n",
        "trend_x_vals = np.linspace(100, 200, 100)\n",
        "trend_y_vals = output.slope * trend_x_vals + output.intercept\n",
        "\n",
        "# Your plots here\n",
        " #Set up axes\n",
        "fig, ax = plt.subplots(1, 1)\n",
        "\n",
        "# Make up data for scatterplot demo\n",
        "xdata = cas_data['G']\n",
        "ydata = cas_data['PER']\n",
        "\n",
        "# Plot scatterplot demo\n",
        "ax.scatter(xdata, ydata, alpha = 0.25)  #alpha just controls the transperency of the dots\n",
        "ax.plot(trend_x_vals, trend_y_vals, color= 'red')\n",
        "ax.set_xlabel('G')\n",
        "ax.set_ylabel('PER')\n",
        "ax.set_title('Goat stats')\n",
        "\n",
        "# Adjust layout for labels\n",
        "fig.tight_layout()\n"
      ],
      "execution_count": 13,
      "outputs": [
        {
          "output_type": "display_data",
          "data": {
            "image/png": "[encoded data removed]",
            "text/plain": [
              "<Figure size 432x288 with 1 Axes>"
            ]
          },
          "metadata": {
            "tags": [],
            "needs_background": "light"
          }
        }
      ]
    }
  ]
}